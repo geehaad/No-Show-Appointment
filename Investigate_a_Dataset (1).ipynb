{
 "cells": [
  {
   "cell_type": "markdown",
   "metadata": {},
   "source": [
    "# Project: No-show appointments Data investigation \n",
    "## Table of Contents\n",
    "<ul>\n",
    "<li><a href=\"#intro\">Introduction</a></li>\n",
    "<li><a href=\"#wrangling\">Data Wrangling</a></li>\n",
    "<li><a href=\"#eda\">Exploratory Data Analysis</a></li>\n",
    "<li><a href=\"#conclusions\">Conclusions</a></li>\n",
    "</ul>"
   ]
  },
  {
   "cell_type": "markdown",
   "metadata": {},
   "source": [
    "<a id='intro'></a>\n",
    "## Introduction\n",
    "> In this project we are going to work with no-show appointment to get closer look to what makes people donot show in their appointment.\n"
   ]
  },
  {
   "cell_type": "code",
   "execution_count": null,
   "metadata": {},
   "outputs": [],
   "source": [
    "# import packages\n",
    "import pandas as pd\n",
    "import numpy as np\n",
    "import matplotlib.pyplot as plt\n",
    "% matplotlib inline"
   ]
  },
  {
   "cell_type": "markdown",
   "metadata": {},
   "source": [
    "<a id='wrangling'></a>\n",
    "## Data Wrangling\n",
    "\n",
    "\n",
    "### General Properties"
   ]
  },
  {
   "cell_type": "code",
   "execution_count": null,
   "metadata": {},
   "outputs": [],
   "source": [
    "# Load data and explore it.\n",
    "df = pd.read_csv(\"KaggleV2-May-2016.csv\")\n",
    "#print out a few lines\n",
    "df.head()"
   ]
  },
  {
   "cell_type": "code",
   "execution_count": null,
   "metadata": {},
   "outputs": [],
   "source": [
    "df.columns"
   ]
  },
  {
   "cell_type": "markdown",
   "metadata": {},
   "source": [
    "**Changes needed:**\n",
    "<ol>\n",
    " <li> Make columns header lower case so it is easly changable.\n",
    " <li> We can change the columns header and use underscores to make it easier to read and work with.   \n",
    " <li> Explore missing data.\n",
    " <li> Explore duplicated data.\n",
    " <li> Changing Appointment Date to day time\n",
    "     \n",
    " "
   ]
  },
  {
   "cell_type": "code",
   "execution_count": null,
   "metadata": {},
   "outputs": [],
   "source": [
    "df.info()"
   ]
  },
  {
   "cell_type": "code",
   "execution_count": null,
   "metadata": {},
   "outputs": [],
   "source": [
    "df.shape"
   ]
  },
  {
   "cell_type": "markdown",
   "metadata": {},
   "source": [
    "#### The Data set has 110527 featurs and 14 roes "
   ]
  },
  {
   "cell_type": "code",
   "execution_count": null,
   "metadata": {},
   "outputs": [],
   "source": [
    "#look for missing vaules\n",
    "df.isnull().sum()"
   ]
  },
  {
   "cell_type": "markdown",
   "metadata": {},
   "source": [
    "#### There is not missing values "
   ]
  },
  {
   "cell_type": "code",
   "execution_count": null,
   "metadata": {},
   "outputs": [],
   "source": [
    "#look for dublicated data\n",
    "df.duplicated().sum()"
   ]
  },
  {
   "cell_type": "markdown",
   "metadata": {},
   "source": [
    "#### There is no dublicated data"
   ]
  },
  {
   "cell_type": "code",
   "execution_count": null,
   "metadata": {},
   "outputs": [],
   "source": [
    "df.describe()"
   ]
  },
  {
   "cell_type": "code",
   "execution_count": null,
   "metadata": {},
   "outputs": [],
   "source": []
  },
  {
   "cell_type": "markdown",
   "metadata": {},
   "source": [
    "<There is not missing values>"
   ]
  },
  {
   "cell_type": "markdown",
   "metadata": {},
   "source": [
    "## Data Cleaning "
   ]
  },
  {
   "cell_type": "markdown",
   "metadata": {},
   "source": [
    "<h3>1- Make columns names lower case"
   ]
  },
  {
   "cell_type": "code",
   "execution_count": null,
   "metadata": {},
   "outputs": [],
   "source": [
    "df.columns = df.columns.str.lower()"
   ]
  },
  {
   "cell_type": "markdown",
   "metadata": {
    "collapsed": true
   },
   "source": [
    "<h3>2- Changing Columns names and adding underscores "
   ]
  },
  {
   "cell_type": "code",
   "execution_count": null,
   "metadata": {},
   "outputs": [],
   "source": [
    "df.columns"
   ]
  },
  {
   "cell_type": "code",
   "execution_count": null,
   "metadata": {},
   "outputs": [],
   "source": [
    "column_id = ['patient_id', 'appointment_id', 'gender', 'scheduled_day',\n",
    "       'appointment_day', 'age', 'neighbourhood', 'scholarship', 'hipertension',\n",
    "       'diabetes', 'alcoholism', 'handcap', 'sms_received', 'no_show']\n",
    "df.columns = column_id\n",
    "# for i in column_id:\n",
    "#     for i in column_id:\n",
    "#         column_id = \"_\".join(column_id)\n",
    "# column_id\n",
    "df.columns"
   ]
  },
  {
   "cell_type": "code",
   "execution_count": null,
   "metadata": {},
   "outputs": [],
   "source": [
    "# column_day = ['scheduledday','appointmentday']\n",
    "# for i in column_day:\n",
    "#     df[i] = df[i].apply(lambda x: x[:-3] +  x[-3:])\n",
    "# df"
   ]
  },
  {
   "cell_type": "markdown",
   "metadata": {},
   "source": [
    "<h3>3- changing date of assignments to date time "
   ]
  },
  {
   "cell_type": "code",
   "execution_count": null,
   "metadata": {},
   "outputs": [],
   "source": [
    "column_day = ['scheduled_day','appointment_day']\n",
    "for date in column_day:\n",
    "    df[date] = pd.to_datetime(df[date])\n",
    "df"
   ]
  },
  {
   "cell_type": "code",
   "execution_count": null,
   "metadata": {
    "scrolled": true
   },
   "outputs": [],
   "source": [
    "df.info()"
   ]
  },
  {
   "cell_type": "markdown",
   "metadata": {},
   "source": [
    "<h3>4- Changing id from float to int"
   ]
  },
  {
   "cell_type": "code",
   "execution_count": null,
   "metadata": {
    "scrolled": true
   },
   "outputs": [],
   "source": [
    "df[\"appointment_id\"] = df[\"appointment_id\"].astype(int)\n",
    "df[\"appointment_id\"]"
   ]
  },
  {
   "cell_type": "code",
   "execution_count": null,
   "metadata": {},
   "outputs": [],
   "source": [
    "df[\"patient_id\"] = df[\"patient_id\"].astype(int)"
   ]
  },
  {
   "cell_type": "code",
   "execution_count": null,
   "metadata": {},
   "outputs": [],
   "source": [
    "df"
   ]
  },
  {
   "cell_type": "markdown",
   "metadata": {},
   "source": [
    "<h3>5- Changing Age from string to int "
   ]
  },
  {
   "cell_type": "code",
   "execution_count": null,
   "metadata": {},
   "outputs": [],
   "source": [
    "df['age'] = df['age'].astype(int)\n",
    "df"
   ]
  },
  {
   "cell_type": "markdown",
   "metadata": {},
   "source": [
    "<h3>6- Changing no_show variable to number 0/1 to plot it more easly\n",
    "    ( 0 for not attend and 1 for apperance)"
   ]
  },
  {
   "cell_type": "code",
   "execution_count": null,
   "metadata": {},
   "outputs": [],
   "source": [
    "df[\"no_show\"].nunique()"
   ]
  },
  {
   "cell_type": "code",
   "execution_count": null,
   "metadata": {},
   "outputs": [],
   "source": [
    "df[\"no_show\"] = np.where((df[\"no_show\"]==\"Yes\"), 0, 1)\n",
    "df[\"no_show\"]"
   ]
  },
  {
   "cell_type": "markdown",
   "metadata": {},
   "source": [
    "<h3>7- Changing the gender variable to number 0/1 to plot it more easily (1 for female, 0 for male)"
   ]
  },
  {
   "cell_type": "code",
   "execution_count": null,
   "metadata": {},
   "outputs": [],
   "source": [
    "df[\"gender\"] = np.where((df[\"gender\"]==\"F\"), 1, 0)\n",
    "df[\"gender\"]"
   ]
  },
  {
   "cell_type": "code",
   "execution_count": null,
   "metadata": {
    "scrolled": true
   },
   "outputs": [],
   "source": [
    "df"
   ]
  },
  {
   "cell_type": "code",
   "execution_count": null,
   "metadata": {},
   "outputs": [],
   "source": [
    "df.info()"
   ]
  },
  {
   "cell_type": "markdown",
   "metadata": {},
   "source": [
    "<a id='eda'></a>\n",
    "## Exploratory Data Analysis\n",
    "\n",
    "\n",
    "### Create a relation between every variable and the no-show variable"
   ]
  },
  {
   "cell_type": "markdown",
   "metadata": {},
   "source": [
    "#### Create a new data frame to store the no-shows and shows data"
   ]
  },
  {
   "cell_type": "code",
   "execution_count": null,
   "metadata": {},
   "outputs": [],
   "source": [
    "no_shows = df.query('no_show == \"0\"')\n",
    "no_shows"
   ]
  },
  {
   "cell_type": "code",
   "execution_count": null,
   "metadata": {},
   "outputs": [],
   "source": [
    "shows = df.query('no_show == \"1\"')\n",
    "shows"
   ]
  },
  {
   "cell_type": "markdown",
   "metadata": {},
   "source": [
    "### 1- How many people appear or disapear in appointment "
   ]
  },
  {
   "cell_type": "code",
   "execution_count": null,
   "metadata": {},
   "outputs": [],
   "source": [
    "#Number of appearing people  \n",
    "Nshows= sum(df[\"no_show\"] == 1)\n",
    "Nshows"
   ]
  },
  {
   "cell_type": "code",
   "execution_count": null,
   "metadata": {},
   "outputs": [],
   "source": [
    "#Number of not attending people\n",
    "Nno_shows= sum(df[\"no_show\"] == 0)\n",
    "Nno_shows"
   ]
  },
  {
   "cell_type": "markdown",
   "metadata": {},
   "source": [
    "#### The Number of people that did not show is more than tha number of people that shew."
   ]
  },
  {
   "cell_type": "code",
   "execution_count": null,
   "metadata": {},
   "outputs": [],
   "source": [
    "# Data to plot\n",
    "labels = ['No Shows', 'Shows']\n",
    "sizes = [Nno_shows, Nshows]\n",
    "colors = [ 'tomato' ,'lightblue']\n",
    "explode = (0, 0.1)\n",
    "\n",
    "# The plot\n",
    "plt.pie(sizes, explode=explode, labels=labels, colors=colors,\n",
    "        autopct='%1.1f%%', shadow=True, startangle=40)\n",
    "plt.title('Attendance percentage')\n",
    "plt.axis('equal')\n",
    "fig = plt.gcf()\n",
    "fig.set_size_inches(5,5);"
   ]
  },
  {
   "cell_type": "markdown",
   "metadata": {},
   "source": []
  },
  {
   "cell_type": "markdown",
   "metadata": {},
   "source": [
    "## 2- Relation between Gender and showing"
   ]
  },
  {
   "cell_type": "markdown",
   "metadata": {},
   "source": [
    "### The Gender of all attendence"
   ]
  },
  {
   "cell_type": "code",
   "execution_count": null,
   "metadata": {},
   "outputs": [],
   "source": [
    "Nfemales = df[df[\"gender\"] == 1]\n",
    "Nfemales"
   ]
  },
  {
   "cell_type": "code",
   "execution_count": null,
   "metadata": {},
   "outputs": [],
   "source": [
    "# Number of all females\n",
    "F = Nfemales['gender'].sum()\n",
    "F"
   ]
  },
  {
   "cell_type": "code",
   "execution_count": null,
   "metadata": {},
   "outputs": [],
   "source": [
    "Nmales = df[df[\"gender\"] == 0]\n",
    "Nmales"
   ]
  },
  {
   "cell_type": "code",
   "execution_count": null,
   "metadata": {},
   "outputs": [],
   "source": [
    "# Number of all males\n",
    "M = Nmales['gender'].count()\n",
    "M"
   ]
  },
  {
   "cell_type": "code",
   "execution_count": null,
   "metadata": {},
   "outputs": [],
   "source": [
    "# Data to plot\n",
    "labels = ['ALL Female', 'All Male']\n",
    "sizes = [F, M]\n",
    "colors = ['pink', 'royalblue']\n",
    "explode = (0, 0.1)\n",
    "\n",
    "# The plot\n",
    "plt.pie(sizes, explode=explode, labels=labels, colors=colors,\n",
    "        autopct='%1.1f%%', shadow=True, startangle=40)\n",
    "plt.title('Gender Distribution by Shows')\n",
    "plt.axis('equal')\n",
    "fig = plt.gcf()\n",
    "fig.set_size_inches(5,5);"
   ]
  },
  {
   "cell_type": "markdown",
   "metadata": {},
   "source": [
    "### showing"
   ]
  },
  {
   "cell_type": "markdown",
   "metadata": {},
   "source": [
    "#### Females that show on appointments "
   ]
  },
  {
   "cell_type": "code",
   "execution_count": null,
   "metadata": {},
   "outputs": [],
   "source": [
    "female_shows = shows[shows['gender']==1]\n",
    "female_shows"
   ]
  },
  {
   "cell_type": "code",
   "execution_count": null,
   "metadata": {},
   "outputs": [],
   "source": [
    "f = female_shows[\"gender\"].sum()\n",
    "f"
   ]
  },
  {
   "cell_type": "markdown",
   "metadata": {},
   "source": [
    "#### Males that show on appointments "
   ]
  },
  {
   "cell_type": "code",
   "execution_count": null,
   "metadata": {
    "scrolled": false
   },
   "outputs": [],
   "source": [
    "males_shows = shows[shows['gender']==0]\n",
    "males_shows"
   ]
  },
  {
   "cell_type": "code",
   "execution_count": null,
   "metadata": {},
   "outputs": [],
   "source": [
    "m = males_shows['gender'].count()\n",
    "m"
   ]
  },
  {
   "cell_type": "code",
   "execution_count": null,
   "metadata": {},
   "outputs": [],
   "source": [
    "# Data to plot\n",
    "labels = ['Female', 'male']\n",
    "sizes = [f, m]\n",
    "colors = [ 'tomato' ,'lightblue']\n",
    "explode = (0, 0.1)\n",
    "\n",
    "# The plot\n",
    "plt.pie(sizes, explode=explode, labels=labels, colors=colors,\n",
    "        autopct='%1.1f%%', shadow=True, startangle=40)\n",
    "plt.title('Gender appointments')\n",
    "plt.axis('equal')\n",
    "fig = plt.gcf()\n",
    "fig.set_size_inches(5,5);"
   ]
  },
  {
   "cell_type": "markdown",
   "metadata": {},
   "source": [
    "#### Females is more likely to appoint"
   ]
  },
  {
   "cell_type": "markdown",
   "metadata": {},
   "source": [
    "### Not showing"
   ]
  },
  {
   "cell_type": "markdown",
   "metadata": {},
   "source": [
    "#### Females that donot shows on appointments "
   ]
  },
  {
   "cell_type": "code",
   "execution_count": null,
   "metadata": {},
   "outputs": [],
   "source": [
    "female_no_shows = no_shows[no_shows['gender']==1]\n",
    "female_no_shows"
   ]
  },
  {
   "cell_type": "code",
   "execution_count": null,
   "metadata": {},
   "outputs": [],
   "source": [
    "no_f = female_no_shows['gender'].sum()\n",
    "no_f"
   ]
  },
  {
   "cell_type": "markdown",
   "metadata": {},
   "source": [
    "#### males that donot shows on appointments "
   ]
  },
  {
   "cell_type": "code",
   "execution_count": null,
   "metadata": {},
   "outputs": [],
   "source": [
    "males_no_shows = no_shows[no_shows['gender']==0]\n",
    "males_no_shows"
   ]
  },
  {
   "cell_type": "code",
   "execution_count": null,
   "metadata": {},
   "outputs": [],
   "source": [
    "no_m = males_no_shows['gender'].count()\n",
    "no_m"
   ]
  },
  {
   "cell_type": "code",
   "execution_count": null,
   "metadata": {},
   "outputs": [],
   "source": [
    "# Data to plot\n",
    "labels = ['Female', 'male']\n",
    "sizes = [no_f, no_m]\n",
    "colors = ['lightblue', 'lightgreen']\n",
    "explode = (0, 0.1)\n",
    "\n",
    "# The plot\n",
    "plt.pie(sizes, explode=explode, labels=labels, colors=colors,\n",
    "        autopct='%1.1f%%', shadow=True, startangle=40)\n",
    "plt.title('Gender Distribution by No Shows')\n",
    "plt.axis('equal')\n",
    "fig = plt.gcf()\n",
    "fig.set_size_inches(5,5);"
   ]
  },
  {
   "cell_type": "markdown",
   "metadata": {},
   "source": [
    "#### Females are more like to donot show in their appointments "
   ]
  },
  {
   "cell_type": "markdown",
   "metadata": {},
   "source": [
    "### 3- Relation between Age and showing"
   ]
  },
  {
   "cell_type": "markdown",
   "metadata": {},
   "source": [
    "#### The Average of all patients "
   ]
  },
  {
   "cell_type": "code",
   "execution_count": null,
   "metadata": {},
   "outputs": [],
   "source": [
    "all_age_mean = df['age'].mean()\n",
    "all_age_mean"
   ]
  },
  {
   "cell_type": "markdown",
   "metadata": {},
   "source": [
    "#### The Average of all patients that show in their appointments "
   ]
  },
  {
   "cell_type": "code",
   "execution_count": null,
   "metadata": {},
   "outputs": [],
   "source": [
    "age_show_mean = shows['age'].mean()\n",
    "age_show_mean"
   ]
  },
  {
   "cell_type": "markdown",
   "metadata": {},
   "source": [
    "The average age of people that shows in the appointment is 37.3 "
   ]
  },
  {
   "cell_type": "markdown",
   "metadata": {},
   "source": [
    "#### The Average of all patients that do not show in their appointments "
   ]
  },
  {
   "cell_type": "code",
   "execution_count": null,
   "metadata": {},
   "outputs": [],
   "source": [
    "age_no_show_mean = no_shows['age'].mean()\n",
    "age_no_show_mean"
   ]
  },
  {
   "cell_type": "markdown",
   "metadata": {},
   "source": [
    "The average age of people that does not show in the appointment is 37.3 "
   ]
  },
  {
   "cell_type": "code",
   "execution_count": null,
   "metadata": {},
   "outputs": [],
   "source": [
    "# Data to plot \n",
    "showAge = shows['age']\n",
    "noshowAge = no_shows['age']"
   ]
  },
  {
   "cell_type": "code",
   "execution_count": null,
   "metadata": {},
   "outputs": [],
   "source": [
    "## The plot of show data\n",
    "plt.hist(showAge, bins=100)\n",
    "plt.title('Age Distribution by Shows')\n",
    "plt.xlabel('Age')\n",
    "plt.ylabel('Number of Appointments')"
   ]
  },
  {
   "cell_type": "code",
   "execution_count": null,
   "metadata": {},
   "outputs": [],
   "source": [
    "## Plot no show data \n",
    "plt.hist(noshowAge, bins=100, color= \"pink\")\n",
    "plt.title('Age Distribution by no Shows')\n",
    "plt.xlabel('Age')\n",
    "plt.ylabel('Number of Appointments')"
   ]
  },
  {
   "cell_type": "markdown",
   "metadata": {},
   "source": [
    "### 4- The relation between the Neighbourhood and the attendence of the patients "
   ]
  },
  {
   "cell_type": "code",
   "execution_count": null,
   "metadata": {},
   "outputs": [],
   "source": [
    "df[\"neighbourhood\"]"
   ]
  },
  {
   "cell_type": "markdown",
   "metadata": {},
   "source": [
    "#### The relation between shows and neighbourhood"
   ]
  },
  {
   "cell_type": "code",
   "execution_count": null,
   "metadata": {},
   "outputs": [],
   "source": [
    "hood_show = shows.groupby('neighbourhood')['no_show'].count().reset_index(name= \"Count\").sort_values(\"Count\")\n",
    "hood_show"
   ]
  },
  {
   "cell_type": "code",
   "execution_count": null,
   "metadata": {},
   "outputs": [],
   "source": [
    "# The first five neighbourhoods that it is most likly to show in appointments\n",
    "hood_show.tail()"
   ]
  },
  {
   "cell_type": "code",
   "execution_count": null,
   "metadata": {},
   "outputs": [],
   "source": [
    "# The neighbourhood that it is most likly to show in appointments\n",
    "hood_show[hood_show[\"Count\"] == hood_show[\"Count\"].max()] "
   ]
  },
  {
   "cell_type": "markdown",
   "metadata": {},
   "source": [
    "#### It is JARDIM CAMBURI neighbourhood"
   ]
  },
  {
   "cell_type": "code",
   "execution_count": null,
   "metadata": {},
   "outputs": [],
   "source": [
    "hood = hood_show[\"neighbourhood\"].head(10)\n",
    "hood"
   ]
  },
  {
   "cell_type": "code",
   "execution_count": null,
   "metadata": {},
   "outputs": [],
   "source": [
    "cHood = hood_show[\"Count\"].head(10)\n",
    "cHood"
   ]
  },
  {
   "cell_type": "code",
   "execution_count": null,
   "metadata": {},
   "outputs": [],
   "source": [
    "## The plot of show data \n",
    "fig = plt.figure()\n",
    "ax = fig.add_axes([0,0,4,3])\n",
    "ax.bar(hood, cHood)"
   ]
  },
  {
   "cell_type": "markdown",
   "metadata": {},
   "source": [
    "#### The relation between no shows and neighbourhood"
   ]
  },
  {
   "cell_type": "code",
   "execution_count": null,
   "metadata": {},
   "outputs": [],
   "source": [
    "hood_no_show = no_shows.groupby('neighbourhood')['no_show'].count().reset_index(name= \"Count\").sort_values(\"Count\")\n",
    "hood_no_show"
   ]
  },
  {
   "cell_type": "code",
   "execution_count": null,
   "metadata": {},
   "outputs": [],
   "source": [
    "# The first five neighbourhoods that it is most likly to no show in appointments\n",
    "hood_no_show.tail()"
   ]
  },
  {
   "cell_type": "code",
   "execution_count": null,
   "metadata": {},
   "outputs": [],
   "source": [
    "# The neighbourhood that it is most likly to no show in appointments\n",
    "hood_no_show[hood_no_show[\"Count\"] ==hood_no_show[\"Count\"].max()] "
   ]
  },
  {
   "cell_type": "code",
   "execution_count": null,
   "metadata": {},
   "outputs": [],
   "source": [
    "no_hood = hood_no_show[\"neighbourhood\"].head(10)\n",
    "no_cHood = hood_no_show[\"Count\"].head(10)"
   ]
  },
  {
   "cell_type": "markdown",
   "metadata": {},
   "source": [
    "#### It is JARDIM CAMBURI Neighbourhood"
   ]
  },
  {
   "cell_type": "code",
   "execution_count": null,
   "metadata": {},
   "outputs": [],
   "source": [
    "## The plot of noshow data \n",
    "fig = plt.figure()\n",
    "ax = fig.add_axes([0,0,4,3])\n",
    "ax.bar(no_hood, no_cHood)"
   ]
  },
  {
   "cell_type": "markdown",
   "metadata": {},
   "source": [
    "### 4- The relation between the Scholarship in the Bolsa Família and showing in appointments. "
   ]
  },
  {
   "cell_type": "code",
   "execution_count": null,
   "metadata": {},
   "outputs": [],
   "source": [
    "d = df.groupby(\"scholarship\")[\"no_show\"].count().reset_index(name= \"Count\")\n",
    "d.head()"
   ]
  },
  {
   "cell_type": "markdown",
   "metadata": {},
   "source": [
    "#### In all the data set, we have 99666 patients is not in the scholarship and 10861 is in the scholarship"
   ]
  },
  {
   "cell_type": "code",
   "execution_count": null,
   "metadata": {},
   "outputs": [],
   "source": [
    "att = shows.groupby(\"scholarship\")[\"no_show\"].count().reset_index(name= \"Count\")\n",
    "att"
   ]
  },
  {
   "cell_type": "markdown",
   "metadata": {},
   "source": [
    "#### In all the patients that show their appointments, there are 79925 patients is not in the scholarship and 8283 is in the scholarship "
   ]
  },
  {
   "cell_type": "code",
   "execution_count": null,
   "metadata": {},
   "outputs": [],
   "source": [
    "not_att = no_shows.groupby(\"scholarship\")[\"no_show\"].count().reset_index(name= \"Count\")\n",
    "not_att"
   ]
  },
  {
   "cell_type": "markdown",
   "metadata": {},
   "source": [
    "#### In all the patients that show their appointments, there are 19741 patients is not in the scholarship and 2578 is in the scholarship "
   ]
  },
  {
   "cell_type": "markdown",
   "metadata": {},
   "source": [
    "## 5- What is the patients health and doese it affects their attendence "
   ]
  },
  {
   "cell_type": "code",
   "execution_count": null,
   "metadata": {},
   "outputs": [],
   "source": [
    "df.head()"
   ]
  },
  {
   "cell_type": "code",
   "execution_count": null,
   "metadata": {},
   "outputs": [],
   "source": [
    "#Total Hipertension\n",
    "df_Hip1 = df[df[\"hipertension\"]==1]\n",
    "df_Hip1"
   ]
  },
  {
   "cell_type": "code",
   "execution_count": null,
   "metadata": {},
   "outputs": [],
   "source": [
    "df_Hip1[\"hipertension\"].count()"
   ]
  },
  {
   "cell_type": "markdown",
   "metadata": {},
   "source": [
    "#### The total Number of hipertension in the patients is 21801"
   ]
  },
  {
   "cell_type": "code",
   "execution_count": null,
   "metadata": {},
   "outputs": [],
   "source": [
    "#Total Diabetes\n",
    "df_dia1 = df[df[\"diabetes\"]==1]\n",
    "df_dia1"
   ]
  },
  {
   "cell_type": "code",
   "execution_count": null,
   "metadata": {},
   "outputs": [],
   "source": [
    "df_dia1[\"diabetes\"].count()"
   ]
  },
  {
   "cell_type": "markdown",
   "metadata": {},
   "source": [
    "#### The total Number of Diabetes in the patients is 7943"
   ]
  },
  {
   "cell_type": "code",
   "execution_count": null,
   "metadata": {},
   "outputs": [],
   "source": []
  },
  {
   "cell_type": "code",
   "execution_count": null,
   "metadata": {},
   "outputs": [],
   "source": [
    "#Total Alcholism\n",
    "df_alc1 = df[df[\"alcoholism\"]==1]\n",
    "df_alc1"
   ]
  },
  {
   "cell_type": "code",
   "execution_count": null,
   "metadata": {},
   "outputs": [],
   "source": [
    "df_alc1[\"alcoholism\"].count()"
   ]
  },
  {
   "cell_type": "markdown",
   "metadata": {},
   "source": [
    "#### The total Number of alcoholism in the patients is 3360"
   ]
  },
  {
   "cell_type": "code",
   "execution_count": null,
   "metadata": {},
   "outputs": [],
   "source": []
  },
  {
   "cell_type": "code",
   "execution_count": null,
   "metadata": {},
   "outputs": [],
   "source": [
    "#Total handicap \n",
    "df_hand = df[df[\"handcap\"]==1] \n",
    "df_hand"
   ]
  },
  {
   "cell_type": "code",
   "execution_count": null,
   "metadata": {},
   "outputs": [],
   "source": [
    "df[\"handcap\"].count()"
   ]
  },
  {
   "cell_type": "markdown",
   "metadata": {},
   "source": [
    "#### The total Number of handicap in the patients is 110527"
   ]
  },
  {
   "cell_type": "markdown",
   "metadata": {},
   "source": [
    "## Total shows "
   ]
  },
  {
   "cell_type": "code",
   "execution_count": null,
   "metadata": {},
   "outputs": [],
   "source": [
    "# hipertension\n",
    "df_hip2 = shows[shows[\"hipertension\"]==1]\n",
    "df_hip2"
   ]
  },
  {
   "cell_type": "code",
   "execution_count": null,
   "metadata": {},
   "outputs": [],
   "source": [
    "# diabetes\n",
    "df_dia2 = shows[shows[\"diabetes\"]==1]\n",
    "df_dia2"
   ]
  },
  {
   "cell_type": "code",
   "execution_count": null,
   "metadata": {},
   "outputs": [],
   "source": [
    "#alcoholism\n",
    "df_alch2 = shows[shows[\"alcoholism\"]==1]\n",
    "df_alch2"
   ]
  },
  {
   "cell_type": "code",
   "execution_count": null,
   "metadata": {},
   "outputs": [],
   "source": [
    "# Handicap\n",
    "df_hand2 = shows[shows[\"handcap\"]==1]\n",
    "df_hand2"
   ]
  },
  {
   "cell_type": "code",
   "execution_count": null,
   "metadata": {},
   "outputs": [],
   "source": [
    "# The plot\n",
    "labels = ['Hypertension','Diabetes','Alcoholism', 'Handicap']\n",
    "sizes = [df_hip2.shape[0], df_dia2.shape[0], df_alch2.shape[0], df_hand2.shape[0]]\n",
    "colors = ['palevioletred', 'lightpink', 'lavender', 'plum']\n",
    "explode = (0, 0, 0.1, 0)\n",
    "\n",
    "plt.pie(sizes, explode=explode, labels=labels, colors=colors,\n",
    "        autopct='%1.1f%%', shadow=True, startangle=70)\n",
    "\n",
    "plt.title('Health Designation by Shows')\n",
    "plt.axis('equal')\n",
    "fig = plt.gcf()\n",
    "fig.set_size_inches(5,5)"
   ]
  },
  {
   "cell_type": "markdown",
   "metadata": {},
   "source": [
    "## Total no show"
   ]
  },
  {
   "cell_type": "code",
   "execution_count": null,
   "metadata": {},
   "outputs": [],
   "source": [
    "# hipertension\n",
    "df_hip3 = no_shows[no_shows[\"hipertension\"]==1]\n",
    "df_hip3"
   ]
  },
  {
   "cell_type": "code",
   "execution_count": null,
   "metadata": {},
   "outputs": [],
   "source": [
    "# diabetes\n",
    "df_dia3 = no_shows[no_shows[\"diabetes\"]==1]\n",
    "df_dia3"
   ]
  },
  {
   "cell_type": "code",
   "execution_count": null,
   "metadata": {},
   "outputs": [],
   "source": [
    "#alcoholism\n",
    "df_alch3 = no_shows[no_shows[\"alcoholism\"]==1]\n",
    "df_alch3"
   ]
  },
  {
   "cell_type": "code",
   "execution_count": null,
   "metadata": {},
   "outputs": [],
   "source": [
    "# Handicap\n",
    "df_hand3 = no_shows[no_shows[\"handcap\"]==1]\n",
    "df_hand3"
   ]
  },
  {
   "cell_type": "code",
   "execution_count": null,
   "metadata": {},
   "outputs": [],
   "source": [
    "# The plot\n",
    "labels = ['Hypertension','Diabetes','Alcoholism', 'Handicap']\n",
    "sizes = [df_hip3.shape[0], df_dia3.shape[0], df_alch3.shape[0], df_hand3.shape[0]]\n",
    "colors = ['steelblue', 'lightblue', 'lavender', 'turquoise']\n",
    "explode = (0, 0, 0.1, 0)\n",
    "\n",
    "plt.pie(sizes, explode=explode, labels=labels, colors=colors,\n",
    "        autopct='%1.1f%%', shadow=True, startangle=70)\n",
    "\n",
    "plt.title('Health Designation by no Show')\n",
    "plt.axis('equal')\n",
    "fig = plt.gcf()\n",
    "fig.set_size_inches(5,5)"
   ]
  },
  {
   "cell_type": "markdown",
   "metadata": {},
   "source": [
    "## 6- Doese the patients that recieved SMS is more likely to show in their appointments ? "
   ]
  },
  {
   "cell_type": "code",
   "execution_count": null,
   "metadata": {},
   "outputs": [],
   "source": [
    "# Total number of patients that recived SMS \n",
    "smsNo = df[df[\"sms_received\"] == 1] \n",
    "smsNo"
   ]
  },
  {
   "cell_type": "code",
   "execution_count": null,
   "metadata": {},
   "outputs": [],
   "source": [
    "smsNo.shape[0]"
   ]
  },
  {
   "cell_type": "markdown",
   "metadata": {},
   "source": [
    "#### Total number of patients that recived SMS is 35482"
   ]
  },
  {
   "cell_type": "markdown",
   "metadata": {},
   "source": [
    "### Total number of patients that recieved SMS and show in appointments"
   ]
  },
  {
   "cell_type": "code",
   "execution_count": null,
   "metadata": {},
   "outputs": [],
   "source": [
    "sms_show = shows[shows[\"sms_received\"] == 1] \n",
    "sms_show"
   ]
  },
  {
   "cell_type": "code",
   "execution_count": null,
   "metadata": {},
   "outputs": [],
   "source": [
    "a = sms_show.shape[0]\n",
    "a"
   ]
  },
  {
   "cell_type": "markdown",
   "metadata": {},
   "source": [
    "#### Total number of patients that revieved SMS and shows their appointments is 25698"
   ]
  },
  {
   "cell_type": "code",
   "execution_count": null,
   "metadata": {},
   "outputs": [],
   "source": [
    "sms_no_show = no_shows[no_shows[\"sms_received\"] == 1] \n",
    "sms_no_show"
   ]
  },
  {
   "cell_type": "code",
   "execution_count": null,
   "metadata": {},
   "outputs": [],
   "source": [
    "b = sms_no_show.shape[0]\n",
    "b"
   ]
  },
  {
   "cell_type": "markdown",
   "metadata": {},
   "source": [
    "#### Total number of patients that revieved SMS and doesnot show their appointments is 9784"
   ]
  },
  {
   "cell_type": "code",
   "execution_count": null,
   "metadata": {},
   "outputs": [],
   "source": [
    "## The plot of SMS data \n",
    "locations = [1, 2]\n",
    "heights = [a, b]\n",
    "labels = ['Shows', 'No-Shows']\n",
    "\n",
    "bar1 = plt.bar(locations, heights, tick_label=labels, color=['slateblue','darkslateblue'])\n",
    "plt.title('SMS Messages Received')\n",
    "plt.xlabel('Appointments')\n",
    "plt.ylabel('SMS Receipt Rate');\n"
   ]
  },
  {
   "cell_type": "markdown",
   "metadata": {},
   "source": [
    "### Total number of patients that did not recieve SMS and show in appointments"
   ]
  },
  {
   "cell_type": "code",
   "execution_count": null,
   "metadata": {},
   "outputs": [],
   "source": [
    "no_sms_show = shows[shows[\"sms_received\"] == 0] \n",
    "no_sms_show"
   ]
  },
  {
   "cell_type": "code",
   "execution_count": null,
   "metadata": {},
   "outputs": [],
   "source": [
    "x = no_sms_show.shape[0]\n",
    "x"
   ]
  },
  {
   "cell_type": "code",
   "execution_count": null,
   "metadata": {
    "scrolled": false
   },
   "outputs": [],
   "source": [
    "no_sms_no_show = no_shows[no_shows[\"sms_received\"] == 0] \n",
    "no_sms_no_show"
   ]
  },
  {
   "cell_type": "code",
   "execution_count": null,
   "metadata": {},
   "outputs": [],
   "source": [
    "y = no_sms_no_show.shape[0]\n",
    "y"
   ]
  },
  {
   "cell_type": "code",
   "execution_count": null,
   "metadata": {},
   "outputs": [],
   "source": [
    "## The plot of SMS data \n",
    "locations = [1, 2]\n",
    "heights = [a, b]\n",
    "labels = ['Shows', 'No-Shows']\n",
    "\n",
    "bar1 = plt.bar(locations, heights, tick_label=labels, color=['lightblue','pink'])\n",
    "plt.title('SMS Messages not Received')\n",
    "plt.xlabel('Appointments')\n",
    "plt.ylabel('SMS Receipt Rate');\n"
   ]
  },
  {
   "cell_type": "code",
   "execution_count": null,
   "metadata": {},
   "outputs": [],
   "source": []
  },
  {
   "cell_type": "code",
   "execution_count": null,
   "metadata": {},
   "outputs": [],
   "source": []
  },
  {
   "cell_type": "markdown",
   "metadata": {},
   "source": [
    "<a id='conclusions'></a>\n",
    "## Conclusions\n",
    "> In General, about 79.8% of all patients shew in their appointments, and 20.2% did not show.\n",
    "<ol>\n",
    "    The factors that a affects the showing of patients in their appointments:\n",
    "    <li> Gender:\n",
    "        <ul>The most propotion os patients are women: 65% of all patients are females, and 35% is males </ul></ul>\n",
    "        <ul>Females are more likely to show in their appointments, with 64.9% and 35.1% are males</ul></ul>\n",
    "        <ul>Females are more likely to not show in their appointments, with 64.4% and 34.6% are males</ul>\n",
    "    <li> Age:\n",
    "        <ul>The average age of all patients is 37</ul>\n",
    "        <ul>The average age of patients that show in their appointments is 38</ul>\n",
    "        <ul>The average age of patients that do not show in their appointments is 34</ul>\n",
    "    <li> Neighbourhood:\n",
    "        <ul>The neighbourhood that it is most likly to show in appointments is JARDIM CAMBURI with 6252</ul>\n",
    "        <ul>The neighbourhood that it is most likly to not show in appointments is JARDIM CAMBURI with 1465</ul>\n",
    "    <li> Scholarship in the Bolsa Família:\n",
    "        <ul>In all the data set, we have 99666 patients is not in the scholarship and 10861 is in the scholarship</ul>\n",
    "        <ul>In all the patients that show their appointments, there are 79925 patients is not in the scholarship and 8283 is in the scholarship </ul>\n",
    "        <ul>In all the patients that show their appointments, there are 19741 patients is not in the scholarship and 2578 is in the scholarship </ul>       \n",
    "    <li> patients health:\n",
    "        <ul>The total Number of hipertension in the patients is 21801</ul>\n",
    "        <ul>The total Number of Diabetes in the patients is 7943</ul>\n",
    "        <ul>The total Number of alcoholism in the patients is 3360</ul>\n",
    "        <ul>The total Number of handicap in the patients is 110527</ul>\n",
    "        <ul>Hipertensions are more likely to show in their appointments, and Handicap is less likely to show</ul>\n",
    "        <ul>Hipertensions are more likely to not show in their appointments, and Handicap is less likely to not show</ul> \n",
    "    <li>Recieving SMS:\n",
    "        <ul>Total number of patients that recived SMS is 35482</ul>\n",
    "        <ul>The patients that recieved SMS are more likely to show up their appointmrnts</ul>\n",
    "        <ul>The patients that recieved SMS are more likely to not show up their appointmrnts</ul>\n",
    "        \n",
    "As we see, Thoese Features are not enough to pretend what is exactly affects the attendence of the patients, maybe collecting another information like weather conditions, the distance from their home and the clinic.\n",
    "\n",
    "\n"
   ]
  },
  {
   "cell_type": "code",
   "execution_count": null,
   "metadata": {},
   "outputs": [],
   "source": [
    "from subprocess import call\n",
    "call(['python', '-m', 'nbconvert', 'Investigate_a_Dataset.ipynb'])"
   ]
  }
 ],
 "metadata": {
  "kernelspec": {
   "display_name": "Python 3",
   "language": "python",
   "name": "python3"
  },
  "language_info": {
   "codemirror_mode": {
    "name": "ipython",
    "version": 3
   },
   "file_extension": ".py",
   "mimetype": "text/x-python",
   "name": "python",
   "nbconvert_exporter": "python",
   "pygments_lexer": "ipython3",
   "version": "3.6.3"
  }
 },
 "nbformat": 4,
 "nbformat_minor": 2
}
